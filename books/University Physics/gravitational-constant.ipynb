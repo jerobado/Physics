{
 "cells": [
  {
   "cell_type": "code",
   "execution_count": 8,
   "metadata": {},
   "outputs": [],
   "source": [
    "from astropy.constants import G\n",
    "from astropy import units"
   ]
  },
  {
   "cell_type": "code",
   "execution_count": 14,
   "metadata": {},
   "outputs": [],
   "source": [
    "# A Collision in Orbit problem\n",
    "m1 = 9000 * units.kg\n",
    "m2 = 9000 * units.kg\n",
    "radius = 10 * units.m"
   ]
  },
  {
   "cell_type": "code",
   "execution_count": 15,
   "metadata": {},
   "outputs": [],
   "source": [
    "# Gravitational force formula\n",
    "# F = G * ((m1 * m2) / pow(radius, 2))\n",
    "F = G.value * ((m1 * m2) / pow(radius, 2))"
   ]
  },
  {
   "cell_type": "code",
   "execution_count": 21,
   "metadata": {},
   "outputs": [
    {
     "data": {
      "text/latex": [
       "$5.406183 \\times 10^{-5} \\; \\mathrm{\\frac{kg^{2}\\,N}{m^{2}}}$"
      ],
      "text/plain": [
       "<Quantity 5.406183e-05 kg2 N / m2>"
      ]
     },
     "execution_count": 21,
     "metadata": {},
     "output_type": "execute_result"
    }
   ],
   "source": [
    "F * units.N # value of F"
   ]
  },
  {
   "cell_type": "code",
   "execution_count": 26,
   "metadata": {},
   "outputs": [],
   "source": [
    "# compute inititial acceleration of each payload\n",
    "# formula:\n",
    "# a = F / m\n",
    "a = (F * units.N) / m1"
   ]
  },
  {
   "cell_type": "code",
   "execution_count": 30,
   "metadata": {},
   "outputs": [
    {
     "data": {
      "text/latex": [
       "$6.00687 \\times 10^{-9} \\; \\mathrm{\\frac{N\\,kg}{m\\,s}}$"
      ],
      "text/plain": [
       "<Quantity 6.00687e-09 kg N / (m s)>"
      ]
     },
     "execution_count": 30,
     "metadata": {},
     "output_type": "execute_result"
    }
   ],
   "source": [
    "a * units.m / units.s"
   ]
  }
 ],
 "metadata": {
  "kernelspec": {
   "display_name": "Python 3",
   "language": "python",
   "name": "python3"
  },
  "language_info": {
   "codemirror_mode": {
    "name": "ipython",
    "version": 3
   },
   "file_extension": ".py",
   "mimetype": "text/x-python",
   "name": "python",
   "nbconvert_exporter": "python",
   "pygments_lexer": "ipython3",
   "version": "3.7.6"
  }
 },
 "nbformat": 4,
 "nbformat_minor": 4
}
