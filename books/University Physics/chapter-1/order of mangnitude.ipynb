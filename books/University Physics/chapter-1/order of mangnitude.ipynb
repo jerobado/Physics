{
 "cells": [
  {
   "cell_type": "code",
   "execution_count": 1,
   "metadata": {},
   "outputs": [],
   "source": [
    "# Order of Magnitude (OOM)\n",
    "# - is the scale (or size) of a value\n",
    "import math"
   ]
  },
  {
   "cell_type": "code",
   "execution_count": 11,
   "metadata": {},
   "outputs": [],
   "source": [
    "def order_of_magnitude(number):\n",
    "    result = math.log(number, 10)\n",
    "    return round(result)"
   ]
  },
  {
   "cell_type": "code",
   "execution_count": 15,
   "metadata": {},
   "outputs": [
    {
     "name": "stdout",
     "output_type": "stream",
     "text": [
      "800 -> 3\n",
      "450 -> 3\n",
      "250 -> 2\n",
      "1000 -> 3\n",
      "5200 -> 4\n",
      "10000000000000000 -> 16\n"
     ]
    }
   ],
   "source": [
    "numbers = [800, 450, 250, 1000, 5200, 10000000000000000]\n",
    "for number in numbers:\n",
    "    print(f'{number} -> {order_of_magnitude(number)}')"
   ]
  },
  {
   "cell_type": "code",
   "execution_count": null,
   "metadata": {},
   "outputs": [],
   "source": []
  }
 ],
 "metadata": {
  "kernelspec": {
   "display_name": "Python 3",
   "language": "python",
   "name": "python3"
  },
  "language_info": {
   "codemirror_mode": {
    "name": "ipython",
    "version": 3
   },
   "file_extension": ".py",
   "mimetype": "text/x-python",
   "name": "python",
   "nbconvert_exporter": "python",
   "pygments_lexer": "ipython3",
   "version": "3.7.6"
  }
 },
 "nbformat": 4,
 "nbformat_minor": 4
}
