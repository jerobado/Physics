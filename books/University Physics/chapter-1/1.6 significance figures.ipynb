{
 "cells": [
  {
   "cell_type": "code",
   "execution_count": 2,
   "metadata": {},
   "outputs": [],
   "source": [
    "# Calculating Percent Uncertainty: A Bag of Apples\n",
    "\n",
    "# A grocery store sells 5-lb bags of apples. Let's say we purchase four bags\n",
    "# during the course of a month and weigh the bag each time. We obtain\n",
    "# the following measurements:\n",
    "\n",
    "# Week 1: 4.8 lb\n",
    "# Week 2: 5.3 lb\n",
    "# Week 3: 4.9 lb\n",
    "# Week 4: 5.4 lb\n",
    "\n",
    "# We then determine the average weight of the 5-lb bag of apples is 5.1 ± 0.3\n",
    "# from using half of the range. What is the percent uncertainty of the bag's \n",
    "# weight?\n",
    "\n",
    "# Formula:\n",
    "# Percent uncertainty = (δA / A) * 100%"
   ]
  },
  {
   "cell_type": "code",
   "execution_count": 5,
   "metadata": {},
   "outputs": [],
   "source": [
    "import statistics"
   ]
  },
  {
   "cell_type": "code",
   "execution_count": 6,
   "metadata": {},
   "outputs": [],
   "source": [
    "bag_of_apples_weight = [4.8, 5.3, 4.9, 5.4]"
   ]
  },
  {
   "cell_type": "code",
   "execution_count": 10,
   "metadata": {},
   "outputs": [
    {
     "data": {
      "text/plain": [
       "5.1"
      ]
     },
     "execution_count": 10,
     "metadata": {},
     "output_type": "execute_result"
    }
   ],
   "source": [
    "# get average weight\n",
    "average_weight = statistics.mean(bag_of_apples_weight)\n",
    "average_weight"
   ]
  },
  {
   "cell_type": "code",
   "execution_count": 14,
   "metadata": {},
   "outputs": [
    {
     "data": {
      "text/plain": [
       "0.30000000000000027"
      ]
     },
     "execution_count": 14,
     "metadata": {},
     "output_type": "execute_result"
    }
   ],
   "source": [
    "# get uncertainty\n",
    "uncertainty = (max(bag_of_apples_weight) - min(bag_of_apples_weight)) / 2\n",
    "uncertainty"
   ]
  },
  {
   "cell_type": "code",
   "execution_count": 17,
   "metadata": {},
   "outputs": [
    {
     "data": {
      "text/plain": [
       "'average weight 5.1 ± 0.30'"
      ]
     },
     "execution_count": 17,
     "metadata": {},
     "output_type": "execute_result"
    }
   ],
   "source": [
    "f'average weight {average_weight} ± {uncertainty:.2f}'"
   ]
  },
  {
   "cell_type": "code",
   "execution_count": 23,
   "metadata": {},
   "outputs": [],
   "source": [
    "# compute percent uncertainty\n",
    "pu = (uncertainty / average_weight) * 1"
   ]
  },
  {
   "cell_type": "code",
   "execution_count": 25,
   "metadata": {},
   "outputs": [
    {
     "data": {
      "text/plain": [
       "'percent uncertainty: 0.06%'"
      ]
     },
     "execution_count": 25,
     "metadata": {},
     "output_type": "execute_result"
    }
   ],
   "source": [
    "f'percent uncertainty: {pu:.2f}%'"
   ]
  },
  {
   "cell_type": "code",
   "execution_count": null,
   "metadata": {},
   "outputs": [],
   "source": []
  }
 ],
 "metadata": {
  "kernelspec": {
   "display_name": "Python 3",
   "language": "python",
   "name": "python3"
  },
  "language_info": {
   "codemirror_mode": {
    "name": "ipython",
    "version": 3
   },
   "file_extension": ".py",
   "mimetype": "text/x-python",
   "name": "python",
   "nbconvert_exporter": "python",
   "pygments_lexer": "ipython3",
   "version": "3.7.6"
  }
 },
 "nbformat": 4,
 "nbformat_minor": 4
}
